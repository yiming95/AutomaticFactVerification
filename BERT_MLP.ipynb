version https://git-lfs.github.com/spec/v1
oid sha256:4ebfc2d57de6ea0d3d9f22effddaf3f55a891a44618f9eb615b50a8ca13646a4
size 287
