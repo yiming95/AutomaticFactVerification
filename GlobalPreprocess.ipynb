{
 "cells": [
  {
   "cell_type": "markdown",
   "metadata": {},
   "source": [
    "# Preprocess Globally"
   ]
  },
  {
   "cell_type": "code",
   "execution_count": 30,
   "metadata": {
    "ExecuteTime": {
     "end_time": "2019-05-20T04:07:10.487797Z",
     "start_time": "2019-05-20T04:07:10.462487Z"
    }
   },
   "outputs": [],
   "source": [
    "import re\n",
    "import os\n",
    "\n",
    "def delete_bracket(sentence) -> str:\n",
    "    pattern = r\"(?:(-LRB-)|(-LSB-)|(-RSB-)|(-RRB-))\"\n",
    "    cleaned = re.sub(pattern, \"\", sentence)\n",
    "    return cleaned\n",
    "\n",
    "def is_english(s):\n",
    "    try:\n",
    "        s.encode(encoding='utf-8').decode('ascii')\n",
    "    except UnicodeDecodeError:\n",
    "        return False\n",
    "    else:\n",
    "        return True\n",
    "\n",
    "def delete_non_english(sentence) -> str:\n",
    "    cleaned_sentence = []\n",
    "    for word in sentence.split():\n",
    "        if is_english(word):\n",
    "            cleaned_sentence.append(word)\n",
    "    return \" \".join(cleaned_sentence)\n",
    "\n",
    "def clean(sentence) -> str:\n",
    "    cleaned = delete_bracket(sentence)\n",
    "    cleaned = delete_non_english(cleaned)\n",
    "    return cleaned"
   ]
  },
  {
   "cell_type": "code",
   "execution_count": 31,
   "metadata": {
    "ExecuteTime": {
     "end_time": "2019-05-20T04:09:26.140472Z",
     "start_time": "2019-05-20T04:07:11.839054Z"
    }
   },
   "outputs": [
    {
     "name": "stdout",
     "output_type": "stream",
     "text": [
      "processing file: wiki-009.txt\n",
      "224486\n",
      "224486\n",
      "processing file: wiki-021.txt\n",
      "237117\n",
      "237117\n",
      "processing file: wiki-035.txt\n",
      "232771\n",
      "232771\n",
      "processing file: wiki-034.txt\n",
      "229356\n",
      "229356\n",
      "processing file: wiki-020.txt\n",
      "238150\n",
      "238150\n",
      "processing file: wiki-008.txt\n",
      "223209\n",
      "223209\n",
      "processing file: wiki-036.txt\n",
      "240169\n",
      "240169\n",
      "processing file: wiki-022.txt\n",
      "242010\n",
      "242010\n",
      "processing file: wiki-023.txt\n",
      "240450\n",
      "240450\n",
      "processing file: wiki-037.txt\n",
      "237814\n",
      "237814\n",
      "processing file: wiki-033.txt\n",
      "229753\n",
      "229753\n",
      "processing file: wiki-027.txt\n",
      "234021\n",
      "234021\n",
      "processing file: wiki-026.txt\n",
      "229996\n",
      "229996\n",
      "processing file: wiki-032.txt\n",
      "234029\n",
      "234029\n",
      "processing file: wiki-024.txt\n",
      "238732\n",
      "238732\n",
      "processing file: wiki-030.txt\n",
      "238710\n",
      "238710\n",
      "processing file: wiki-018.txt\n",
      "236790\n"
     ]
    },
    {
     "ename": "KeyboardInterrupt",
     "evalue": "",
     "output_type": "error",
     "traceback": [
      "\u001b[0;31m---------------------------------------------------------------------------\u001b[0m",
      "\u001b[0;31mKeyboardInterrupt\u001b[0m                         Traceback (most recent call last)",
      "\u001b[0;32m<ipython-input-31-8dcc7daf7de3>\u001b[0m in \u001b[0;36m<module>\u001b[0;34m()\u001b[0m\n\u001b[1;32m     17\u001b[0m             \u001b[0mtext_words\u001b[0m \u001b[0;34m=\u001b[0m \u001b[0mline\u001b[0m\u001b[0;34m.\u001b[0m\u001b[0msplit\u001b[0m\u001b[0;34m(\u001b[0m\u001b[0;34m)\u001b[0m\u001b[0;34m[\u001b[0m\u001b[0;36m2\u001b[0m\u001b[0;34m:\u001b[0m \u001b[0mlen\u001b[0m\u001b[0;34m(\u001b[0m\u001b[0mline\u001b[0m\u001b[0;34m)\u001b[0m\u001b[0;34m]\u001b[0m\u001b[0;34m\u001b[0m\u001b[0m\n\u001b[1;32m     18\u001b[0m             \u001b[0mcombined_text\u001b[0m \u001b[0;34m=\u001b[0m \u001b[0;34m\" \"\u001b[0m\u001b[0;34m.\u001b[0m\u001b[0mjoin\u001b[0m\u001b[0;34m(\u001b[0m\u001b[0mhead_words\u001b[0m \u001b[0;34m+\u001b[0m \u001b[0mtext_words\u001b[0m\u001b[0;34m)\u001b[0m\u001b[0;34m\u001b[0m\u001b[0m\n\u001b[0;32m---> 19\u001b[0;31m             \u001b[0mcleaned_text\u001b[0m \u001b[0;34m=\u001b[0m \u001b[0mclean\u001b[0m\u001b[0;34m(\u001b[0m\u001b[0mcombined_text\u001b[0m\u001b[0;34m)\u001b[0m\u001b[0;34m\u001b[0m\u001b[0m\n\u001b[0m\u001b[1;32m     20\u001b[0m             \u001b[0mfinal_line\u001b[0m \u001b[0;34m=\u001b[0m \u001b[0mhead\u001b[0m \u001b[0;34m+\u001b[0m \u001b[0;34m\" \"\u001b[0m \u001b[0;34m+\u001b[0m \u001b[0mcleaned_text\u001b[0m \u001b[0;34m+\u001b[0m \u001b[0;34m\"\\n\"\u001b[0m\u001b[0;34m\u001b[0m\u001b[0m\n\u001b[1;32m     21\u001b[0m             \u001b[0mfinal_line\u001b[0m\u001b[0;34m\u001b[0m\u001b[0m\n",
      "\u001b[0;32m<ipython-input-30-629912de9ebe>\u001b[0m in \u001b[0;36mclean\u001b[0;34m(sentence)\u001b[0m\n\u001b[1;32m     24\u001b[0m \u001b[0;32mdef\u001b[0m \u001b[0mclean\u001b[0m\u001b[0;34m(\u001b[0m\u001b[0msentence\u001b[0m\u001b[0;34m)\u001b[0m \u001b[0;34m->\u001b[0m \u001b[0mstr\u001b[0m\u001b[0;34m:\u001b[0m\u001b[0;34m\u001b[0m\u001b[0m\n\u001b[1;32m     25\u001b[0m     \u001b[0mcleaned\u001b[0m \u001b[0;34m=\u001b[0m \u001b[0mdelete_bracket\u001b[0m\u001b[0;34m(\u001b[0m\u001b[0msentence\u001b[0m\u001b[0;34m)\u001b[0m\u001b[0;34m\u001b[0m\u001b[0m\n\u001b[0;32m---> 26\u001b[0;31m     \u001b[0mcleaned\u001b[0m \u001b[0;34m=\u001b[0m \u001b[0mdelete_non_english\u001b[0m\u001b[0;34m(\u001b[0m\u001b[0mcleaned\u001b[0m\u001b[0;34m)\u001b[0m\u001b[0;34m\u001b[0m\u001b[0m\n\u001b[0m\u001b[1;32m     27\u001b[0m     \u001b[0;32mreturn\u001b[0m \u001b[0mcleaned\u001b[0m\u001b[0;34m\u001b[0m\u001b[0m\n",
      "\u001b[0;32m<ipython-input-30-629912de9ebe>\u001b[0m in \u001b[0;36mdelete_non_english\u001b[0;34m(sentence)\u001b[0m\n\u001b[1;32m     17\u001b[0m \u001b[0;32mdef\u001b[0m \u001b[0mdelete_non_english\u001b[0m\u001b[0;34m(\u001b[0m\u001b[0msentence\u001b[0m\u001b[0;34m)\u001b[0m \u001b[0;34m->\u001b[0m \u001b[0mstr\u001b[0m\u001b[0;34m:\u001b[0m\u001b[0;34m\u001b[0m\u001b[0m\n\u001b[1;32m     18\u001b[0m     \u001b[0mcleaned_sentence\u001b[0m \u001b[0;34m=\u001b[0m \u001b[0;34m[\u001b[0m\u001b[0;34m]\u001b[0m\u001b[0;34m\u001b[0m\u001b[0m\n\u001b[0;32m---> 19\u001b[0;31m     \u001b[0;32mfor\u001b[0m \u001b[0mword\u001b[0m \u001b[0;32min\u001b[0m \u001b[0msentence\u001b[0m\u001b[0;34m.\u001b[0m\u001b[0msplit\u001b[0m\u001b[0;34m(\u001b[0m\u001b[0;34m)\u001b[0m\u001b[0;34m:\u001b[0m\u001b[0;34m\u001b[0m\u001b[0m\n\u001b[0m\u001b[1;32m     20\u001b[0m         \u001b[0;32mif\u001b[0m \u001b[0mis_english\u001b[0m\u001b[0;34m(\u001b[0m\u001b[0mword\u001b[0m\u001b[0;34m)\u001b[0m\u001b[0;34m:\u001b[0m\u001b[0;34m\u001b[0m\u001b[0m\n\u001b[1;32m     21\u001b[0m             \u001b[0mcleaned_sentence\u001b[0m\u001b[0;34m.\u001b[0m\u001b[0mappend\u001b[0m\u001b[0;34m(\u001b[0m\u001b[0mword\u001b[0m\u001b[0;34m)\u001b[0m\u001b[0;34m\u001b[0m\u001b[0m\n",
      "\u001b[0;31mKeyboardInterrupt\u001b[0m: "
     ]
    }
   ],
   "source": [
    "\n",
    "wiki_file_path = \"./wiki-pages-text/\"\n",
    "output_file_path = \"./new-wiki-pages-text/\"\n",
    "\n",
    "for file in os.listdir(wiki_file_path):\n",
    "    print(\"processing file: \" + file)\n",
    "    file_name = wiki_file_path + file\n",
    "    output_file_name = output_file_path + file\n",
    "    cleaned_lines = []\n",
    "    with open(file=file_name) as f:\n",
    "        lines = f.readlines()\n",
    "        print(len(lines))\n",
    "        for line in lines:\n",
    "            head = line.split()[0: 2]\n",
    "            head_words = head[0].split(\"_\")\n",
    "            head = \" \".join(head)\n",
    "            text_words = line.split()[2: len(line)]\n",
    "            combined_text = \" \".join(head_words + text_words)\n",
    "            cleaned_text = clean(combined_text)\n",
    "            final_line = head + \" \" + cleaned_text + \"\\n\"\n",
    "            final_line\n",
    "            \n",
    "            cleaned_lines.append(final_line)\n",
    "    with open(output_file_name, 'w') as f:\n",
    "        print(len(cleaned_lines))\n",
    "        f.writelines(cleaned_lines)\n",
    "#     with open(file=file_name) as f:\n",
    "#         lines = f.readlines()\n"
   ]
  }
 ],
 "metadata": {
  "hide_input": false,
  "kernelspec": {
   "display_name": "Python 3",
   "language": "python",
   "name": "python3"
  },
  "language_info": {
   "codemirror_mode": {
    "name": "ipython",
    "version": 3
   },
   "file_extension": ".py",
   "mimetype": "text/x-python",
   "name": "python",
   "nbconvert_exporter": "python",
   "pygments_lexer": "ipython3",
   "version": "3.6.4"
  },
  "toc": {
   "base_numbering": 1,
   "nav_menu": {},
   "number_sections": true,
   "sideBar": true,
   "skip_h1_title": false,
   "title_cell": "Table of Contents",
   "title_sidebar": "Contents",
   "toc_cell": false,
   "toc_position": {},
   "toc_section_display": true,
   "toc_window_display": false
  }
 },
 "nbformat": 4,
 "nbformat_minor": 2
}
