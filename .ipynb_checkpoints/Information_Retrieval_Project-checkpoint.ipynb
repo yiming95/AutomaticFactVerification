{
 "cells": [
  {
   "cell_type": "markdown",
   "metadata": {},
   "source": [
    "### Information Retrieval\n",
    "\n",
    "This is the document retrieval and sentence retrieval part of the project."
   ]
  },
  {
   "cell_type": "markdown",
   "metadata": {},
   "source": [
    "####  1. Unpack the zip file.\n",
    "    \n",
    "Unpack the 'wiki-pages-text.zip' in the current directory."
   ]
  },
  {
   "cell_type": "code",
   "execution_count": 5,
   "metadata": {},
   "outputs": [],
   "source": [
    "import zipfile\n",
    "def unpack():\n",
    "    with zipfile.ZipFile('wiki-pages-text.zip') as file:\n",
    "        file.extractall()\n",
    "unpack()"
   ]
  },
  {
   "cell_type": "markdown",
   "metadata": {},
   "source": [
    "#### 2. Load file. \n",
    "\n",
    "Load the training dataset and the wiki txt file."
   ]
  },
  {
   "cell_type": "code",
   "execution_count": 117,
   "metadata": {
    "ExecuteTime": {
     "end_time": "2019-05-06T05:47:34.886653Z",
     "start_time": "2019-05-06T05:46:58.941199Z"
    }
   },
   "outputs": [
    {
     "name": "stdout",
     "output_type": "stream",
     "text": [
      "Length of the train data is: 145449\n",
      "\n",
      "\n",
      "Length of the document is: 25248397\n"
     ]
    }
   ],
   "source": [
    "import os\n",
    "import json\n",
    "with open('train.json', 'r') as f:  # load training dataset\n",
    "        train_data = json.load(f)   \n",
    "print(\"Length of the train data is: \" + str(len(train_data)))\n",
    "\n",
    "with open('devset.json', 'r') as f1:  # load dev dataset\n",
    "        dev_data = json.load(f1) \n",
    "        \n",
    "# appeand all the wiki txt sentences to one document\n",
    "def loadfile(folder): \n",
    "    document = []\n",
    "    list_of_files = os.listdir(folder)\n",
    "    \n",
    "    for file in list_of_files:\n",
    "        try:\n",
    "            filename = os.path.join(folder, file)\n",
    "            with open(filename, 'r') as doc:\n",
    "                for line in doc:\n",
    "                    document.append(line)     \n",
    "        except Exception as e:\n",
    "            print(\"No files found here!\")\n",
    "            raise e\n",
    "    return document\n",
    "document = loadfile(\"wiki-pages-text\")\n",
    "\n",
    "print(\"Length of the document is: \" + str(len(document)))"
   ]
  },
  {
   "cell_type": "markdown",
   "metadata": {},
   "source": [
    "#### 3. Preprocess \n",
    "Preprocess includes: strip punctuations, tokenize,lemma, lower case, remove stop words."
   ]
  },
  {
   "cell_type": "code",
   "execution_count": 113,
   "metadata": {
    "ExecuteTime": {
     "end_time": "2019-05-06T05:36:07.109919Z",
     "start_time": "2019-05-06T05:36:07.042428Z"
    }
   },
   "outputs": [],
   "source": [
    "import nltk\n",
    "import re\n",
    "from nltk.corpus import stopwords\n",
    "# nltk.download('punkt')\n",
    "# nltk.download('stopwords')\n",
    "# nltk.download('wordnet')\n",
    "\n",
    "lemmatizer = nltk.stem.wordnet.WordNetLemmatizer()\n",
    "\n",
    "def lemmatize(word):\n",
    "    lemma = lemmatizer.lemmatize(word,'v')\n",
    "    if lemma == word:\n",
    "        lemma = lemmatizer.lemmatize(word,'n')\n",
    "    return lemma\n",
    "\n",
    "stop_words = set(stopwords.words('english')) \n",
    "\n",
    "def preprocess(sentence):\n",
    "    norm_sentence = []\n",
    "    sentence = re.sub(r'[^\\w\\s]', '', sentence) # strip punctuations: remove ',' '.',etc.\n",
    "    tokens = nltk.tokenize.word_tokenize(sentence)  \n",
    "                \n",
    "    for token in tokens:\n",
    "        token = lemmatize(token)\n",
    "        token = token.lower() \n",
    "        if (token == \"no\" or token == \"not\"):  # keep no from stop words as it is useful for analysis\n",
    "            norm_sentence.append(token)  \n",
    "        if token not in stop_words:         # remove stop words\n",
    "            norm_sentence.append(token)                  \n",
    "    return norm_sentence"
   ]
  },
  {
   "cell_type": "markdown",
   "metadata": {},
   "source": [
    "#### 4. Build inverted index.\n",
    "Compute document term frequency, build <b> inverted index </b> and then uses BM25 to rank.\n",
    "\n"
   ]
  },
  {
   "cell_type": "code",
   "execution_count": 114,
   "metadata": {
    "ExecuteTime": {
     "end_time": "2019-05-06T05:36:35.608703Z",
     "start_time": "2019-05-06T05:36:35.579306Z"
    }
   },
   "outputs": [],
   "source": [
    "from collections import Counter\n",
    "\n",
    "def doc_term_freq(doc):\n",
    "    doc_term_freqs = []\n",
    "    for sentence in doc:\n",
    "        doc_term_freqs.append(Counter(sentence)) \n",
    "    return doc_term_freqs\n",
    "\n",
    "class InvertedIndex:\n",
    "    def __init__(self, vocab, doc_term_freqs):\n",
    "        self.vocab = vocab\n",
    "        self.doc_len = [0] * len(doc_term_freqs)\n",
    "        self.doc_term_freqs = [[] for i in range(len(vocab))]\n",
    "        self.doc_ids = [[] for i in range(len(vocab))]\n",
    "        self.doc_freqs = [0] * len(vocab)\n",
    "        self.total_num_docs = 0\n",
    "        self.total_doc_len = 0\n",
    "        for docid, term_freqs in enumerate(doc_term_freqs):\n",
    "            doc_len = sum(term_freqs.values())\n",
    "            self.total_doc_len += doc_len\n",
    "            self.doc_len[docid] = doc_len\n",
    "            self.total_num_docs += 1\n",
    "            for term, freq in term_freqs.items():\n",
    "                term_id = vocab[term]\n",
    "                self.doc_ids[term_id].append(docid)\n",
    "                self.doc_term_freqs[term_id].append(freq)\n",
    "                self.doc_freqs[term_id] += 1\n",
    "\n",
    "    def num_terms(self):\n",
    "        return len(self.doc_ids)\n",
    "\n",
    "    def num_docs(self):\n",
    "        return self.total_num_docs\n",
    "\n",
    "    def docids(self, term):\n",
    "        term_id = self.vocab[term]\n",
    "        return self.doc_ids[term_id]\n",
    "\n",
    "    def freqs(self, term):\n",
    "        term_id = self.vocab[term]\n",
    "        return self.doc_term_freqs[term_id]\n",
    "\n",
    "    def f_t(self, term):\n",
    "        term_id = self.vocab[term]\n",
    "        return self.doc_freqs[term_id]"
   ]
  },
  {
   "cell_type": "markdown",
   "metadata": {
    "ExecuteTime": {
     "end_time": "2019-05-06T05:34:26.554193Z",
     "start_time": "2019-05-06T05:34:26.541446Z"
    }
   },
   "source": [
    "#### 5. BM25 \n",
    "Okapi BM25 function is used to rank the sentences."
   ]
  },
  {
   "cell_type": "code",
   "execution_count": 122,
   "metadata": {
    "ExecuteTime": {
     "end_time": "2019-05-06T05:59:54.233153Z",
     "start_time": "2019-05-06T05:59:54.213187Z"
    }
   },
   "outputs": [],
   "source": [
    "from math import log, sqrt\n",
    "\n",
    "def BM25(query, index, k=5):\n",
    "    k1 = 1.2\n",
    "    k3 = 1.5\n",
    "    b = 0.75\n",
    "    # scores stores doc ids and their scores\n",
    "    scores = Counter()\n",
    "    length_average = index.total_doc_len/index.total_num_docs  # average length of document \n",
    "    \n",
    "    for term in query:\n",
    "        if term not in list(vocab.keys()):     # skip if the query word is not in the vocab\n",
    "            continue\n",
    "        N = index.num_docs()      # N: total number of documents\n",
    "        ft = index.f_t(term)       # ft: document frequency of term\n",
    "        docs = index.docids(term)    # docs: all doc ids that contain the term \n",
    "        dft = index.freqs(term)      # dft: all document freqs of the term \n",
    "        fqt = Counter(query)[term]   # fqt: frequency of tern t in query\n",
    "        \n",
    "        for num, docid in enumerate(docs):                                                                       \n",
    "            fdt = dft[num]                                #fdt: frequency of term t in document d   \n",
    "            length = sqrt(abs(index.doc_len[docid]))      # length: length of the doc\n",
    "            #BM25 consists of three parts\n",
    "            idf = log((N - ft + 0.5)/(ft + 0.5))\n",
    "            tf = ((k1 + 1) * fdt)/(k1 * ((1-b) + b * length/length_average) + fdt)\n",
    "            query_tf = (k3 + 1) * fqt / (k3 + fqt)\n",
    "            \n",
    "            scores[docid] +=  idf * tf * query_tf           \n",
    "    return scores.most_common(k)"
   ]
  },
  {
   "cell_type": "markdown",
   "metadata": {},
   "source": [
    "#### 6. Use page identifier to reduce the search space.\n",
    "\n",
    "Build a dictionary that consists the <b>page identifier</b> as the key and the document index(ranges form 0 to 25248397 ） as value.\n",
    "\n",
    "Examples looks like: \"Alexander McNair\" : [1,2,3,4...18] \n",
    "\n",
    "<b>To do:</b> the keywords list may also consider synonyms for each keyword.\n"
   ]
  },
  {
   "cell_type": "code",
   "execution_count": 118,
   "metadata": {
    "ExecuteTime": {
     "end_time": "2019-05-06T05:50:31.187650Z",
     "start_time": "2019-05-06T05:49:17.304338Z"
    }
   },
   "outputs": [
    {
     "name": "stdout",
     "output_type": "stream",
     "text": [
      "Length of keys = 5396106\n"
     ]
    }
   ],
   "source": [
    "final_dic = {}\n",
    "\n",
    "for id, doc in enumerate(document):\n",
    "    final_dic.setdefault((doc.split()[0].replace(\"_\", \" \")), []).append(id)\n",
    "\n",
    "keys = list(final_dic.keys())\n",
    "print(\"Length of keys = {}\".format(len(keys)))"
   ]
  },
  {
   "cell_type": "markdown",
   "metadata": {},
   "source": [
    "#### 7. Retrieval Evidence\n",
    "<b>7.1</b> Given a query, tokenize it first, then for each token in the query, try to find it in the keys list. "
   ]
  },
  {
   "cell_type": "code",
   "execution_count": 149,
   "metadata": {
    "ExecuteTime": {
     "end_time": "2019-05-06T06:59:01.908919Z",
     "start_time": "2019-05-06T06:59:01.898698Z"
    }
   },
   "outputs": [
    {
     "name": "stdout",
     "output_type": "stream",
     "text": [
      "[0, 1, 2, 3, 4, 5, 6, 7, 8, 9, 10, 11, 12, 13, 14, 15, 16, 17, 216, 217, 260, 538, 670, 671, 684, 685, 686, 687, 776, 777, 896, 897, 898, 992, 993, 994, 995, 1065, 1066, 1067, 1068, 1069, 1123, 1143, 1144, 1201, 1202, 1203, 1204, 1205, 1206, 1207, 1208, 1209, 1210, 1211, 1212, 1213, 1214, 1215, 1216, 1217, 1218, 1219, 1220, 1221, 1222, 1223, 1224, 1225, 1226, 1227, 1228, 1229, 1230, 1231, 1232, 1393, 1394, 1395, 1484, 1588, 1589, 1590, 1591, 1592, 1593, 1654, 1655, 2221, 2222, 2223, 2224, 2225, 2268, 2269, 2270, 2271, 2272, 2273, 2279, 2280, 883, 884, 885, 886, 887, 888]\n",
      "108\n"
     ]
    }
   ],
   "source": [
    "# Given a query, returns a list that contains all the document index values.\n",
    "def extract_sentences(query, keys, final_dic):\n",
    "    retrievaled_sentences = []\n",
    "    for word in  nltk.tokenize.word_tokenize(query):\n",
    "        for key in keys:\n",
    "            if re.search(word, key):\n",
    "                retrievaled_sentences.append(final_dic[key])\n",
    "            \n",
    "    retrievaled_sentences = [item for sublist in retrievaled_sentences for item in sublist]\n",
    "    return retrievaled_sentences\n"
   ]
  },
  {
   "cell_type": "markdown",
   "metadata": {},
   "source": [
    "<b>7.2</b> If there is a match or substring match, then retrieve that sentence by using index value to find the raw sentence in txt file. \n",
    "\n",
    "<b>7.3</b> Find all the related sentences by this way and then builds a inverted index and \n",
    "uses BM25 to rank and to retrieval top K sentences as the evidence.\n"
   ]
  },
  {
   "cell_type": "code",
   "execution_count": 158,
   "metadata": {
    "ExecuteTime": {
     "end_time": "2019-05-06T07:40:20.283796Z",
     "start_time": "2019-05-06T07:40:20.260929Z"
    }
   },
   "outputs": [
    {
     "name": "stdout",
     "output_type": "stream",
     "text": [
      "RANK  1 DOCID        4 SCORE 1.477 CONTENT Alexander_McNair 6 David McNair , Jr. , Alexander 's father -LRB- b. 1736 -RRB- , fought with General George Washington in the Trenton and Princeton campaigns in the winter of 1776 -- 77 , and died in February 1777 as a result of wounds received in battle and exposure when Alexander was less than two years old .\n",
      "\n",
      "RANK  2 DOCID        7 SCORE 1.386 CONTENT Alexander_McNair 9 Alexander was defeated .\n",
      "\n",
      "RANK  3 DOCID       14 SCORE 1.282 CONTENT Alexander_McNair 20 Later in September , he enlisted as a private in the First Regiment of Mounted Militia commanded by Colonel Alexander McNair .\n",
      "\n",
      "RANK  4 DOCID        0 SCORE 1.274 CONTENT Alexander_McNair 0 Alexander McNair -LRB- May 5 , 1775 -- March 18 , 1826 -RRB- was an American frontiersman and politician .\n",
      "\n",
      "RANK  5 DOCID        5 SCORE 1.274 CONTENT Alexander_McNair 7 Alexander went to school as a child , and attended one term at the College of Philadelphia -LRB- now the University of Pennsylvania -RRB- .\n",
      "\n"
     ]
    },
    {
     "data": {
      "text/plain": [
       "'\\nprocessed_doc = [] \\nvocab = {}\\nretrieval_sen = extract_sentences(test_query,keys[:500],final_dic)\\nprocessed_doc,vocab = retrieval_evidence(test_query,retrieval_sen)\\n\\nprint(\"Number of sentences = {}\".format(len(processed_doc)))\\nprint(\"Number of unique terms = {}\".format(len(vocab)))\\n\\n\\n\\ndoc_term_freqs = doc_term_freq(processed_doc)\\n\\ninvindex = InvertedIndex(vocab, doc_term_freqs)\\n\\n# print inverted index stats\\nprint(\"documents = {}\".format(invindex.num_docs()))\\nprint(\"number of terms = {}\".format(invindex.num_terms()))\\n\\nquery = \"Alexander Alatskivi\"\\nprocessed_query = preprocess(query)\\n\\nbm25_results = BM25(processed_query, invindex)\\nfor rank, res in enumerate(bm25_results):\\n    print(\"RANK {:2d} DOCID {:8d} SCORE {:.3f} CONTENT {:}\".format(rank+1,res[0],res[1],document[res[0]]))\\n'"
      ]
     },
     "execution_count": 158,
     "metadata": {},
     "output_type": "execute_result"
    }
   ],
   "source": [
    "# Use the result from above step, find all the raw sentences in txt file.\n",
    "def retrieval_evidence(query, keys, final_dic):\n",
    "    processed_doc = [] # processed_docs stores the list of processed docs\n",
    "    vocab = {}\n",
    "    unique_id = 0\n",
    "    \n",
    "    retrievaled_sentences = extract_sentences(query,keys,final_dic)\n",
    "    \n",
    "    # find the row sentences and save them in processed_doc\n",
    "    for retrievaled_sentence in retrievaled_sentences:\n",
    "        norm_sentence = preprocess(document[retrievaled_sentence])\n",
    "        for token in norm_sentence:\n",
    "            if token not in vocab:\n",
    "                vocab.update({token: unique_id})     \n",
    "                unique_id = unique_id + 1\n",
    "        processed_doc.append(norm_sentence) \n",
    "    \n",
    "    # calculate doc term freqs and build an inverted index\n",
    "    doc_term_freqs = doc_term_freq(processed_doc)\n",
    "    invindex = InvertedIndex(vocab, doc_term_freqs)\n",
    "    bm25_results = BM25(processed_query, invindex)\n",
    "    \n",
    "    for rank, res in enumerate(bm25_results):\n",
    "        print(\"RANK {:2d} DOCID {:8d} SCORE {:.3f} CONTENT {:}\".format(rank+1,res[0],res[1],document[res[0]]))\n",
    "    # return processed_doc,vocab\n",
    "\n",
    "# test_query = \"Nikolaj Coster-Waldau worked with the Fox Broadcasting Company.\"\n",
    "test_query = \"Alexander Alatskivi\"\n",
    "retrieval_evidence(test_query,keys[:100],final_dic)"
   ]
  },
  {
   "cell_type": "markdown",
   "metadata": {},
   "source": [
    "<b>Predict evidence for 'train.json' dataset  </b>\n",
    "\n"
   ]
  },
  {
   "cell_type": "code",
   "execution_count": 124,
   "metadata": {
    "ExecuteTime": {
     "end_time": "2019-05-06T06:00:20.526063Z",
     "start_time": "2019-05-06T06:00:20.463409Z"
    }
   },
   "outputs": [
    {
     "name": "stdout",
     "output_type": "stream",
     "text": [
      "{'claim': 'Nikolaj Coster-Waldau worked with the Fox Broadcasting Company.', 'label': 'SUPPORTS', 'evidence': [['Fox_Broadcasting_Company', 0], ['Nikolaj_Coster-Waldau', 7]], 'predicted_evidence': [['Alexander_McNair', '24']]}\n",
      "\n",
      "\n",
      "{'claim': 'Roman Atwood is a content creator.', 'label': 'SUPPORTS', 'evidence': [['Roman_Atwood', 1], ['Roman_Atwood', 3]], 'predicted_evidence': []}\n",
      "\n",
      "\n",
      "{'claim': 'History of art includes architecture, dance, sculpture, music, painting, poetry literature, theatre, narrative, film, photography and graphic arts.', 'label': 'SUPPORTS', 'evidence': [['History_of_art', 2]], 'predicted_evidence': []}\n",
      "\n",
      "\n",
      "{'claim': 'Adrienne Bailon is an accountant.', 'label': 'REFUTES', 'evidence': [['Adrienne_Bailon', 0]], 'predicted_evidence': []}\n",
      "\n",
      "\n",
      "{'claim': 'System of a Down briefly disbanded in limbo.', 'label': 'NOT ENOUGH INFO', 'evidence': [], 'predicted_evidence': []}\n",
      "\n",
      "\n",
      "{'claim': 'Homeland is an American television spy thriller based on the Israeli television series Prisoners of War.', 'label': 'SUPPORTS', 'evidence': [['Prisoners_of_War_-LRB-TV_series-RRB-', 0], ['Homeland_-LRB-TV_series-RRB-', 0]], 'predicted_evidence': [['Alexander_McNair', '0']]}\n",
      "\n",
      "\n",
      "{'claim': 'Beautiful reached number two on the Billboard Hot 100 in 2003.', 'label': 'NOT ENOUGH INFO', 'evidence': [], 'predicted_evidence': [['Alexander_McNair', '8'], ['Alexander_McNair', '16'], ['Alexander_McNair', '6']]}\n",
      "\n",
      "\n",
      "{'claim': 'Neal Schon was named in 1954.', 'label': 'NOT ENOUGH INFO', 'evidence': [], 'predicted_evidence': [['Alexander_McNair', '19']]}\n",
      "\n",
      "\n",
      "{'claim': 'The Boston Celtics play their home games at TD Garden.', 'label': 'SUPPORTS', 'evidence': [['Boston_Celtics', 3]], 'predicted_evidence': []}\n",
      "\n",
      "\n",
      "{'claim': 'The Ten Commandments is an epic film.', 'label': 'SUPPORTS', 'evidence': [['The_Ten_Commandments_-LRB-1956_film-RRB-', 20], ['The_Ten_Commandments_-LRB-1956_film-RRB-', 0]], 'predicted_evidence': []}\n",
      "\n",
      "\n"
     ]
    }
   ],
   "source": [
    "def get_evidence(train_data):\n",
    "    for key in list(train_data)[:10]:\n",
    "        train_data[key][\"predicted_evidence\"] = []\n",
    "        \n",
    "        bm25_result = BM25(preprocess(train_data[key][\"claim\"]), invindex)\n",
    "        for rank, res in enumerate(bm25_result):\n",
    "            train_data[key][\"predicted_evidence\"].append([document[res[0]].split()[0], document[res[0]].split()[1]])\n",
    "    return train_data\n",
    "\n",
    "predicted_train = get_evidence(train_data)\n",
    "\n",
    "for key in list(predicted_train)[:10]:\n",
    "    print(predicted_train[key])\n",
    "    print(\"\\n\")"
   ]
  }
 ],
 "metadata": {
  "kernelspec": {
   "display_name": "Python 3",
   "language": "python",
   "name": "python3"
  },
  "language_info": {
   "codemirror_mode": {
    "name": "ipython",
    "version": 3
   },
   "file_extension": ".py",
   "mimetype": "text/x-python",
   "name": "python",
   "nbconvert_exporter": "python",
   "pygments_lexer": "ipython3",
   "version": "3.7.1"
  }
 },
 "nbformat": 4,
 "nbformat_minor": 2
}
