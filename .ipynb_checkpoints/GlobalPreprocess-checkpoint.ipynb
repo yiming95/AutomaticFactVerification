{
 "cells": [
  {
   "cell_type": "markdown",
   "metadata": {},
   "source": [
    "# Preprocess Globally"
   ]
  },
  {
   "cell_type": "code",
   "execution_count": 1,
   "metadata": {
    "ExecuteTime": {
     "end_time": "2019-05-19T04:01:48.072916Z",
     "start_time": "2019-05-19T04:01:48.048062Z"
    }
   },
   "outputs": [],
   "source": [
    "import re\n",
    "import os\n",
    "\n",
    "def delete_bracket(sentence) -> str:\n",
    "    pattern = r\"(?:(-LRB-)|(-LSB-)|(-RSB-)|(-RRB-))\"\n",
    "    cleaned = re.sub(pattern, \"\", sentence)\n",
    "    return cleaned\n",
    "\n",
    "def is_english(s):\n",
    "    try:\n",
    "        s.encode(encoding='utf-8').decode('ascii')\n",
    "    except UnicodeDecodeError:\n",
    "        return False\n",
    "    else:\n",
    "        return True\n",
    "\n",
    "def delete_non_english(sentence) -> str:\n",
    "    cleaned_sentence = []\n",
    "    for word in sentence.split():\n",
    "        if is_english(word):\n",
    "            cleaned_sentence.append(word)\n",
    "    return \" \".join(cleaned_sentence)\n",
    "\n",
    "def clean(sentence) -> str:\n",
    "    cleaned = delete_bracket(sentence)\n",
    "    cleaned = delete_non_english(cleaned)\n",
    "    return cleaned"
   ]
  },
  {
   "cell_type": "code",
   "execution_count": null,
   "metadata": {
    "ExecuteTime": {
     "end_time": "2019-05-19T04:38:26.111780Z",
     "start_time": "2019-05-19T04:25:32.687467Z"
    }
   },
   "outputs": [
    {
     "name": "stdout",
     "output_type": "stream",
     "text": [
      "processing file: wiki-007.txt\n",
      "229486\n",
      "229486\n",
      "processing file: wiki-081.txt\n",
      "233852\n",
      "233852\n",
      "processing file: wiki-008.txt\n",
      "223209\n",
      "223209\n",
      "processing file: wiki-107.txt\n",
      "210709\n",
      "210709\n",
      "processing file: wiki-078.txt\n",
      "236958\n",
      "236958\n",
      "processing file: wiki-050.txt\n",
      "234151\n",
      "234151\n",
      "processing file: wiki-098.txt\n",
      "230498\n",
      "230498\n",
      "processing file: wiki-055.txt\n",
      "218377\n",
      "218377\n",
      "processing file: wiki-043.txt\n",
      "235707\n",
      "235707\n",
      "processing file: wiki-002.txt\n",
      "171389\n",
      "171389\n",
      "processing file: wiki-044.txt\n",
      "246483\n",
      "246483\n",
      "processing file: wiki-082.txt\n",
      "236488\n"
     ]
    }
   ],
   "source": [
    "\n",
    "wiki_file_path = \"./wiki-pages-text/\"\n",
    "output_file_path = \"./new-wiki-pages-text/\"\n",
    "\n",
    "for file in os.listdir(wiki_file_path):\n",
    "    print(\"processing file: \" + file)\n",
    "    file_name = wiki_file_path + file\n",
    "    output_file_name = output_file_path + file\n",
    "    cleaned_lines = []\n",
    "    with open(file=file_name) as f:\n",
    "        lines = f.readlines()\n",
    "        print(len(lines))\n",
    "        for line in lines:\n",
    "            head = line.split()[0: 2]\n",
    "            head = \" \".join(head)\n",
    "            text = line.split()[2: len(line)]\n",
    "            text = \" \".join(text)\n",
    "            cleaned_text = clean(text)\n",
    "            final_line = head + \" \" + cleaned_text + \"\\n\"\n",
    "            cleaned_lines.append(final_line)\n",
    "    with open(output_file_name, 'w') as f:\n",
    "        print(len(cleaned_lines))\n",
    "        f.writelines(cleaned_lines)\n",
    "#     with open(file=file_name) as f:\n",
    "#         lines = f.readlines()\n"
   ]
  },
  {
   "cell_type": "code",
   "execution_count": null,
   "metadata": {},
   "outputs": [],
   "source": []
  }
 ],
 "metadata": {
  "hide_input": false,
  "kernelspec": {
   "display_name": "Python 3",
   "language": "python",
   "name": "python3"
  },
  "language_info": {
   "codemirror_mode": {
    "name": "ipython",
    "version": 3
   },
   "file_extension": ".py",
   "mimetype": "text/x-python",
   "name": "python",
   "nbconvert_exporter": "python",
   "pygments_lexer": "ipython3",
   "version": "3.5.2"
  },
  "toc": {
   "base_numbering": 1,
   "nav_menu": {},
   "number_sections": true,
   "sideBar": true,
   "skip_h1_title": false,
   "title_cell": "Table of Contents",
   "title_sidebar": "Contents",
   "toc_cell": false,
   "toc_position": {},
   "toc_section_display": true,
   "toc_window_display": false
  }
 },
 "nbformat": 4,
 "nbformat_minor": 2
}
