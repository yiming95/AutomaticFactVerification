{
 "cells": [
  {
   "cell_type": "code",
   "execution_count": 2,
   "metadata": {
    "ExecuteTime": {
     "end_time": "2019-05-17T09:09:10.364217Z",
     "start_time": "2019-05-17T09:09:10.356344Z"
    }
   },
   "outputs": [],
   "source": [
    "import numpy as np\n",
    "# from tempfile import TemporaryFile\n",
    "# outfile = TemporaryFile()\n",
    "\n",
    "\n",
    "# outfile.seek(0) # Only needed here to simulate closing & reopening file\n",
    "# np.load(outfile)"
   ]
  },
  {
   "cell_type": "code",
   "execution_count": 47,
   "metadata": {
    "ExecuteTime": {
     "end_time": "2019-05-17T12:38:53.358453Z",
     "start_time": "2019-05-17T12:38:53.019153Z"
    }
   },
   "outputs": [],
   "source": [
    "result = np.load( \"./BERT_MLP_encodings/test_pair_encode.npy\" )"
   ]
  },
  {
   "cell_type": "code",
   "execution_count": 48,
   "metadata": {
    "ExecuteTime": {
     "end_time": "2019-05-17T12:38:53.543118Z",
     "start_time": "2019-05-17T12:38:53.539203Z"
    }
   },
   "outputs": [
    {
     "data": {
      "text/plain": [
       "array([-0.01539518, -0.25029045, -0.10975125, ...,  0.12861118,\n",
       "        0.44012976, -0.23436603], dtype=float32)"
      ]
     },
     "execution_count": 48,
     "metadata": {},
     "output_type": "execute_result"
    }
   ],
   "source": [
    "result[0]"
   ]
  },
  {
   "cell_type": "code",
   "execution_count": null,
   "metadata": {},
   "outputs": [],
   "source": []
  }
 ],
 "metadata": {
  "hide_input": false,
  "kernelspec": {
   "display_name": "Python 3",
   "language": "python",
   "name": "python3"
  },
  "language_info": {
   "codemirror_mode": {
    "name": "ipython",
    "version": 3
   },
   "file_extension": ".py",
   "mimetype": "text/x-python",
   "name": "python",
   "nbconvert_exporter": "python",
   "pygments_lexer": "ipython3",
   "version": "3.5.2"
  },
  "toc": {
   "base_numbering": 1,
   "nav_menu": {},
   "number_sections": true,
   "sideBar": true,
   "skip_h1_title": false,
   "title_cell": "Table of Contents",
   "title_sidebar": "Contents",
   "toc_cell": false,
   "toc_position": {},
   "toc_section_display": true,
   "toc_window_display": false
  }
 },
 "nbformat": 4,
 "nbformat_minor": 2
}
