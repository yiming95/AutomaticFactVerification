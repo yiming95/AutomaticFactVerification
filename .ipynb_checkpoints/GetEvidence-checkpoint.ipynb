{
 "cells": [
  {
   "cell_type": "markdown",
   "metadata": {
    "cell_style": "center"
   },
   "source": [
    "### Get Evidence"
   ]
  },
  {
   "cell_type": "markdown",
   "metadata": {
    "cell_style": "center"
   },
   "source": [
    "#### calculate evidence-index"
   ]
  },
  {
   "cell_type": "code",
   "execution_count": 1,
   "metadata": {
    "ExecuteTime": {
     "end_time": "2019-05-06T12:32:17.508731Z",
     "start_time": "2019-05-06T12:30:30.562498Z"
    }
   },
   "outputs": [
    {
     "name": "stdout",
     "output_type": "stream",
     "text": [
      "processing file: wiki-009.txt\n",
      "processing file: wiki-021.txt\n",
      "processing file: wiki-035.txt\n",
      "processing file: wiki-034.txt\n",
      "processing file: wiki-020.txt\n",
      "processing file: wiki-008.txt\n",
      "processing file: wiki-036.txt\n",
      "processing file: wiki-022.txt\n",
      "processing file: wiki-023.txt\n",
      "processing file: wiki-037.txt\n",
      "processing file: wiki-033.txt\n",
      "processing file: wiki-027.txt\n",
      "processing file: wiki-026.txt\n",
      "processing file: wiki-032.txt\n",
      "processing file: wiki-024.txt\n",
      "processing file: wiki-030.txt\n",
      "processing file: wiki-018.txt\n",
      "processing file: wiki-019.txt\n",
      "processing file: wiki-031.txt\n",
      "processing file: wiki-025.txt\n",
      "processing file: wiki-042.txt\n",
      "processing file: wiki-056.txt\n",
      "processing file: wiki-081.txt\n",
      "processing file: wiki-095.txt\n",
      "processing file: wiki-094.txt\n",
      "processing file: wiki-080.txt\n",
      "processing file: wiki-057.txt\n",
      "processing file: wiki-043.txt\n",
      "processing file: wiki-069.txt\n",
      "processing file: wiki-055.txt\n",
      "processing file: wiki-041.txt\n",
      "processing file: wiki-096.txt\n",
      "processing file: wiki-082.txt\n",
      "processing file: wiki-109.txt\n",
      "processing file: wiki-108.txt\n",
      "processing file: wiki-083.txt\n",
      "processing file: wiki-097.txt\n",
      "processing file: wiki-040.txt\n",
      "processing file: wiki-054.txt\n",
      "processing file: wiki-068.txt\n",
      "processing file: wiki-050.txt\n",
      "processing file: wiki-044.txt\n",
      "processing file: wiki-078.txt\n",
      "processing file: wiki-093.txt\n",
      "processing file: wiki-087.txt\n",
      "processing file: wiki-086.txt\n",
      "processing file: wiki-092.txt\n",
      "processing file: wiki-079.txt\n",
      "processing file: wiki-045.txt\n",
      "processing file: wiki-051.txt\n",
      "processing file: wiki-047.txt\n",
      "processing file: wiki-053.txt\n",
      "processing file: wiki-084.txt\n",
      "processing file: wiki-090.txt\n",
      "processing file: wiki-091.txt\n",
      "processing file: wiki-085.txt\n",
      "processing file: wiki-052.txt\n",
      "processing file: wiki-046.txt\n",
      "processing file: wiki-063.txt\n",
      "processing file: wiki-077.txt\n",
      "processing file: wiki-088.txt\n",
      "processing file: wiki-103.txt\n",
      "processing file: wiki-102.txt\n",
      "processing file: wiki-089.txt\n",
      "processing file: wiki-076.txt\n",
      "processing file: wiki-062.txt\n",
      "processing file: wiki-048.txt\n",
      "processing file: wiki-074.txt\n",
      "processing file: wiki-060.txt\n",
      "processing file: wiki-100.txt\n",
      "processing file: wiki-101.txt\n",
      "processing file: wiki-061.txt\n",
      "processing file: wiki-075.txt\n",
      "processing file: wiki-049.txt\n",
      "processing file: wiki-071.txt\n",
      "processing file: wiki-065.txt\n",
      "processing file: wiki-059.txt\n",
      "processing file: wiki-105.txt\n",
      "processing file: wiki-104.txt\n",
      "processing file: wiki-058.txt\n",
      "processing file: wiki-064.txt\n",
      "processing file: wiki-070.txt\n",
      "processing file: wiki-066.txt\n",
      "processing file: wiki-072.txt\n",
      "processing file: wiki-099.txt\n",
      "processing file: wiki-106.txt\n",
      "processing file: wiki-107.txt\n",
      "processing file: wiki-098.txt\n",
      "processing file: wiki-073.txt\n",
      "processing file: wiki-067.txt\n",
      "processing file: wiki-028.txt\n",
      "processing file: wiki-014.txt\n",
      "processing file: wiki-015.txt\n",
      "processing file: wiki-001.txt\n",
      "processing file: wiki-029.txt\n",
      "processing file: wiki-017.txt\n",
      "processing file: wiki-003.txt\n",
      "processing file: wiki-002.txt\n",
      "processing file: wiki-016.txt\n",
      "processing file: wiki-012.txt\n",
      "processing file: wiki-006.txt\n",
      "processing file: wiki-007.txt\n",
      "processing file: wiki-013.txt\n",
      "processing file: wiki-005.txt\n",
      "processing file: wiki-011.txt\n",
      "processing file: wiki-039.txt\n",
      "processing file: wiki-038.txt\n",
      "processing file: wiki-010.txt\n",
      "processing file: wiki-004.txt\n"
     ]
    }
   ],
   "source": [
    "import os\n",
    "import json\n",
    "\n",
    "wiki_file_path = \"./wiki-pages-text/\"\n",
    "train_file_path = \"./JSONFiles/\" + \"train.json\"\n",
    "dev_file_path = \"./JSONFiles/\" + \"devset.json\"\n",
    "train_output_path = \"./JSONFiles/\" + \"train_with_text.json\"\n",
    "dev_output_path = \"./JSONFiles/\" + \"dev_with_text.json\"\n",
    "\n",
    "\n",
    "# create index for evidences\n",
    "evi_index = {}\n",
    "for file in os.listdir(wiki_file_path):\n",
    "    print(\"processing file: \" + file)\n",
    "    file_name = wiki_file_path + file\n",
    "    with open(file=file_name) as f:\n",
    "        lines = f.readlines()\n",
    "        for i in range(len(lines)):\n",
    "            words = lines[i].split()\n",
    "            try:\n",
    "                evi = (words[0], int(words[1]))\n",
    "                evi_index.update({\n",
    "                    evi: (file, i)\n",
    "                })\n",
    "            except ValueError as e:\n",
    "                pass\n",
    "\n"
   ]
  },
  {
   "cell_type": "code",
   "execution_count": 30,
   "metadata": {
    "ExecuteTime": {
     "end_time": "2019-05-06T12:48:21.700130Z",
     "start_time": "2019-05-06T12:48:20.617691Z"
    }
   },
   "outputs": [
    {
     "data": {
      "text/plain": [
       "25247896"
      ]
     },
     "execution_count": 30,
     "metadata": {},
     "output_type": "execute_result"
    }
   ],
   "source": [
    "len(list(evi_index))"
   ]
  },
  {
   "cell_type": "markdown",
   "metadata": {},
   "source": [
    "#### Calcualte evidence texts by indexes"
   ]
  },
  {
   "cell_type": "code",
   "execution_count": 45,
   "metadata": {
    "ExecuteTime": {
     "end_time": "2019-05-06T13:03:02.260327Z",
     "start_time": "2019-05-06T13:02:26.995498Z"
    },
    "scrolled": true
   },
   "outputs": [],
   "source": [
    "import linecache\n",
    "import random\n",
    "\n",
    "use_train_file = True\n",
    "\n",
    "# read training data\n",
    "if use_train_file:\n",
    "    with open(train_file_path, 'r') as f:\n",
    "        train = json.load(f)\n",
    "else:\n",
    "    with open(dev_file_path, 'r') as f:\n",
    "        train = json.load(f)\n",
    "\n",
    "index_list = list(evi_index)\n",
    "for key in train.keys():\n",
    "    value = train.get(key)\n",
    "    evidences = value['evidence']\n",
    "    if len(evidences) == 0:\n",
    "        evidences.append(random.choice(index_list))\n",
    "\n",
    "    evidence_texts = []\n",
    "    for evi in evidences:\n",
    "        try:\n",
    "            evidence = (evi[0], int(evi[1]))\n",
    "            file_index_tuple = evi_index.get(evidence)\n",
    "#             print(file_index_tuple)\n",
    "            file = wiki_file_path + file_index_tuple[0]\n",
    "            line_num = file_index_tuple[1]\n",
    "            evi_text = linecache.getline(file,line_num + 1)\n",
    "            evidence_texts.append(evi_text)\n",
    "#             print(evi_text)\n",
    "        except TypeError as e: \n",
    "            #print(evidence)\n",
    "            pass\n",
    "\n",
    "    value.update({\"evidence_texts\": evidence_texts})\n",
    "        \n",
    "# Writing JSON data\n",
    "if use_train_file:\n",
    "    with open(train_output_path, 'w') as f:\n",
    "        json.dump(train, f, sort_keys=True, indent=4)\n",
    "else:\n",
    "    with open(dev_output_path, 'w') as f:\n",
    "        json.dump(train, f, sort_keys=True, indent=4)\n"
   ]
  }
 ],
 "metadata": {
  "hide_input": false,
  "kernelspec": {
   "display_name": "Python 3",
   "language": "python",
   "name": "python3"
  },
  "language_info": {
   "codemirror_mode": {
    "name": "ipython",
    "version": 3
   },
   "file_extension": ".py",
   "mimetype": "text/x-python",
   "name": "python",
   "nbconvert_exporter": "python",
   "pygments_lexer": "ipython3",
   "version": "3.6.4"
  },
  "toc": {
   "base_numbering": 1,
   "nav_menu": {},
   "number_sections": true,
   "sideBar": true,
   "skip_h1_title": false,
   "title_cell": "Table of Contents",
   "title_sidebar": "Contents",
   "toc_cell": false,
   "toc_position": {},
   "toc_section_display": true,
   "toc_window_display": false
  },
  "varInspector": {
   "cols": {
    "lenName": 16,
    "lenType": 16,
    "lenVar": 40
   },
   "kernels_config": {
    "python": {
     "delete_cmd_postfix": "",
     "delete_cmd_prefix": "del ",
     "library": "var_list.py",
     "varRefreshCmd": "print(var_dic_list())"
    },
    "r": {
     "delete_cmd_postfix": ") ",
     "delete_cmd_prefix": "rm(",
     "library": "var_list.r",
     "varRefreshCmd": "cat(var_dic_list()) "
    }
   },
   "types_to_exclude": [
    "module",
    "function",
    "builtin_function_or_method",
    "instance",
    "_Feature"
   ],
   "window_display": false
  }
 },
 "nbformat": 4,
 "nbformat_minor": 2
}
