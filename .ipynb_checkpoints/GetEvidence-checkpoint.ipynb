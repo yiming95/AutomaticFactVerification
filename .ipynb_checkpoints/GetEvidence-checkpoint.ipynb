{
 "cells": [
  {
   "cell_type": "code",
   "execution_count": null,
   "metadata": {},
   "outputs": [],
   "source": [
    "### Get Evidence"
   ]
  },
  {
   "cell_type": "code",
   "execution_count": null,
   "metadata": {},
   "outputs": [],
   "source": [
    "import os\n",
    "import json\n",
    "\n",
    "wiki_file_path = \"./wiki-pages-text/\"\n",
    "train_file_path = \"./\"\n",
    "\n",
    "# Reading data\n",
    "with open(train_file_path + \"train.json\", 'r') as f:\n",
    "    train = json.load(f)\n",
    "\n",
    "for key in train.keys():\n",
    "    print(\"train id: \" + key)\n",
    "    value = train.get(key)\n",
    "    evidences = value['evidence']\n",
    "    evidence_texts = []\n",
    "    for evi in evidences:\n",
    "        print(\"evidence: \" + str(evi))\n",
    "        is_found = False\n",
    "        for file in os.listdir(wiki_file_path):\n",
    "            if is_found:\n",
    "                break\n",
    "            else:\n",
    "                print(\"searching file : \" + file)\n",
    "                file_name = wiki_file_path + file\n",
    "                with open(file=file_name, mode='r') as f:\n",
    "                    lines = f.readlines()\n",
    "                    for line in lines:\n",
    "                        words = line.split()\n",
    "                        if words[0] == evi[0] and words[1] == str(evi[1]):\n",
    "                            evidence_texts.append(line)\n",
    "                            is_found = True\n",
    "                            print(\"found.\")\n",
    "    value.update({\n",
    "        'evidence_texts': evidence_texts\n",
    "    })\n",
    "    train.update({key: value})\n",
    "\n",
    "\n",
    "# Writing JSON data\n",
    "with open('train_with_text.json', 'w') as f:\n",
    "    json.dump(train, f, sort_keys=True, indent=4)\n",
    "\n"
   ]
  },
  {
   "cell_type": "code",
   "execution_count": null,
   "metadata": {},
   "outputs": [],
   "source": []
  }
 ],
 "metadata": {
  "kernelspec": {
   "display_name": "Python 3",
   "language": "python",
   "name": "python3"
  },
  "language_info": {
   "codemirror_mode": {
    "name": "ipython",
    "version": 3
   },
   "file_extension": ".py",
   "mimetype": "text/x-python",
   "name": "python",
   "nbconvert_exporter": "python",
   "pygments_lexer": "ipython3",
   "version": "3.6.4"
  },
  "toc": {
   "base_numbering": 1,
   "nav_menu": {},
   "number_sections": true,
   "sideBar": true,
   "skip_h1_title": false,
   "title_cell": "Table of Contents",
   "title_sidebar": "Contents",
   "toc_cell": false,
   "toc_position": {},
   "toc_section_display": true,
   "toc_window_display": false
  },
  "varInspector": {
   "cols": {
    "lenName": 16,
    "lenType": 16,
    "lenVar": 40
   },
   "kernels_config": {
    "python": {
     "delete_cmd_postfix": "",
     "delete_cmd_prefix": "del ",
     "library": "var_list.py",
     "varRefreshCmd": "print(var_dic_list())"
    },
    "r": {
     "delete_cmd_postfix": ") ",
     "delete_cmd_prefix": "rm(",
     "library": "var_list.r",
     "varRefreshCmd": "cat(var_dic_list()) "
    }
   },
   "types_to_exclude": [
    "module",
    "function",
    "builtin_function_or_method",
    "instance",
    "_Feature"
   ],
   "window_display": false
  }
 },
 "nbformat": 4,
 "nbformat_minor": 2
}
