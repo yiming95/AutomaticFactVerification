{
 "cells": [
  {
   "cell_type": "code",
   "execution_count": null,
   "metadata": {},
   "outputs": [],
   "source": [
    "### Get Evidence"
   ]
  },
  {
   "cell_type": "code",
   "execution_count": null,
   "metadata": {},
   "outputs": [],
   "source": [
    "### output the evidence-index to a tempo file"
   ]
  },
  {
   "cell_type": "code",
   "execution_count": null,
   "metadata": {},
   "outputs": [],
   "source": [
    "import os\n",
    "import json\n",
    "\n",
    "wiki_file_path = \"./wiki-pages-text/\"\n",
    "train_file_path = \"./\"\n",
    "\n",
    "# create index for evidences\n",
    "evi_index = {}\n",
    "for file in os.listdir(wiki_file_path):\n",
    "    print(\"processing file: \" + file)\n",
    "    file_name = wiki_file_path + file\n",
    "    with open(file=file_name) as f:\n",
    "        lines = f.readlines()\n",
    "        for i in range(len(lines)):\n",
    "            words = lines[i].split()\n",
    "            try:\n",
    "                evi = (words[0], int(words[1]))\n",
    "                evi_index.update({\n",
    "                    evi: (file, i)\n",
    "                })\n",
    "            except ValueError as e:\n",
    "                pass\n",
    "\n"
   ]
  },
  {
   "cell_type": "code",
   "execution_count": null,
   "metadata": {},
   "outputs": [],
   "source": [
    "evi_index"
   ]
  },
  {
   "cell_type": "code",
   "execution_count": null,
   "metadata": {
    "scrolled": true
   },
   "outputs": [],
   "source": [
    "import linecache\n",
    "\n",
    "\n",
    "# read training data\n",
    "with open(train_file_path + \"train_small.json\", 'r') as f:\n",
    "    train = json.load(f)\n",
    "\n",
    "for key in train.keys():\n",
    "    value = train.get(key)\n",
    "    evidences = value['evidence']\n",
    "    evidence_texts = []\n",
    "    for evi in evidences:\n",
    "        print(\"find for evi: \" + str(evi))\n",
    "        try:\n",
    "            evidence = (evi[0], int(evi[1]))\n",
    "            file_index_tuple = evi_index.get(evidence)\n",
    "            print(file_index_tuple)\n",
    "            file = wiki_file_path + file_index_tuple[0]\n",
    "            line_num = file_index_tuple[1]\n",
    "            evi_text = linecache.getline(file,line_num + 1)\n",
    "            evidence_texts.append(evi_text)\n",
    "            print(evi_text)\n",
    "        except TypeError as e: \n",
    "            #print(evidence)\n",
    "            pass\n",
    "\n",
    "    value.update({\"evidence_texts\": evidence_texts})\n",
    "        \n",
    "# Writing JSON data\n",
    "with open('train_with_text.json', 'w') as f:\n",
    "    json.dump(train, f, sort_keys=True, indent=4)\n"
   ]
  }
 ],
 "metadata": {
  "kernelspec": {
   "display_name": "Python 3",
   "language": "python",
   "name": "python3"
  },
  "language_info": {
   "codemirror_mode": {
    "name": "ipython",
    "version": 3
   },
   "file_extension": ".py",
   "mimetype": "text/x-python",
   "name": "python",
   "nbconvert_exporter": "python",
   "pygments_lexer": "ipython3",
   "version": "3.6.4"
  },
  "toc": {
   "base_numbering": 1,
   "nav_menu": {},
   "number_sections": true,
   "sideBar": true,
   "skip_h1_title": false,
   "title_cell": "Table of Contents",
   "title_sidebar": "Contents",
   "toc_cell": false,
   "toc_position": {},
   "toc_section_display": true,
   "toc_window_display": false
  },
  "varInspector": {
   "cols": {
    "lenName": 16,
    "lenType": 16,
    "lenVar": 40
   },
   "kernels_config": {
    "python": {
     "delete_cmd_postfix": "",
     "delete_cmd_prefix": "del ",
     "library": "var_list.py",
     "varRefreshCmd": "print(var_dic_list())"
    },
    "r": {
     "delete_cmd_postfix": ") ",
     "delete_cmd_prefix": "rm(",
     "library": "var_list.r",
     "varRefreshCmd": "cat(var_dic_list()) "
    }
   },
   "types_to_exclude": [
    "module",
    "function",
    "builtin_function_or_method",
    "instance",
    "_Feature"
   ],
   "window_display": false
  }
 },
 "nbformat": 4,
 "nbformat_minor": 2
}
