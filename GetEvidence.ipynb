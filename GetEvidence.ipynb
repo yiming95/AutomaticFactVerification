{
 "cells": [
  {
   "cell_type": "markdown",
   "metadata": {
    "cell_style": "center"
   },
   "source": [
    "### Get Evidence"
   ]
  },
  {
   "cell_type": "markdown",
   "metadata": {
    "cell_style": "center"
   },
   "source": [
    "#### calculate evidence-index"
   ]
  },
  {
   "cell_type": "code",
   "execution_count": null,
   "metadata": {
    "ExecuteTime": {
     "end_time": "2019-05-05T06:41:37.425560Z",
     "start_time": "2019-05-05T06:40:00.283433Z"
    }
   },
   "outputs": [],
   "source": [
    "import os\n",
    "import json\n",
    "\n",
    "wiki_file_path = \"./wiki-pages-text/\"\n",
    "train_file_path = \"./JSONFiles/\" + \"train.json\"\n",
    "dev_file_path = \"./JSONFiles/\" + \"devset.json\"\n",
    "train_output_path = \"./JSONFiles/\" + \"train_with_text.json\"\n",
    "dev_output_path = \"./JSONFiles/\" + \"dev_with_text.json\"\n",
    "\n",
    "use_train_file = False\n",
    "\n",
    "# create index for evidences\n",
    "evi_index = {}\n",
    "for file in os.listdir(wiki_file_path):\n",
    "    print(\"processing file: \" + file)\n",
    "    file_name = wiki_file_path + file\n",
    "    with open(file=file_name) as f:\n",
    "        lines = f.readlines()\n",
    "        for i in range(len(lines)):\n",
    "            words = lines[i].split()\n",
    "            try:\n",
    "                evi = (words[0], int(words[1]))\n",
    "                evi_index.update({\n",
    "                    evi: (file, i)\n",
    "                })\n",
    "            except ValueError as e:\n",
    "                pass\n",
    "\n"
   ]
  },
  {
   "cell_type": "code",
   "execution_count": null,
   "metadata": {
    "ExecuteTime": {
     "end_time": "2019-05-05T06:41:37.509086Z",
     "start_time": "2019-05-05T06:41:37.428028Z"
    }
   },
   "outputs": [],
   "source": [
    "evi_index"
   ]
  },
  {
   "cell_type": "code",
   "execution_count": null,
   "metadata": {
    "ExecuteTime": {
     "end_time": "2019-05-05T06:41:37.584395Z",
     "start_time": "2019-05-05T06:41:37.511416Z"
    }
   },
   "outputs": [],
   "source": [
    "evi_index"
   ]
  },
  {
   "cell_type": "markdown",
   "metadata": {},
   "source": [
    "#### Calcualte evidence texts by indexes"
   ]
  },
  {
   "cell_type": "code",
   "execution_count": null,
   "metadata": {
    "ExecuteTime": {
     "end_time": "2019-05-05T06:42:05.655450Z",
     "start_time": "2019-05-05T06:41:37.586304Z"
    },
    "scrolled": true
   },
   "outputs": [],
   "source": [
    "import linecache\n",
    "\n",
    "\n",
    "# read training data\n",
    "if use_train_file:\n",
    "    with open(train_file_path, 'r') as f:\n",
    "        train = json.load(f)\n",
    "else:\n",
    "    with open(dev_file_path, 'r') as f:\n",
    "        train = json.load(f)\n",
    "\n",
    "for key in train.keys():\n",
    "    value = train.get(key)\n",
    "    evidences = value['evidence']\n",
    "    evidence_texts = []\n",
    "    for evi in evidences:\n",
    "        try:\n",
    "            evidence = (evi[0], int(evi[1]))\n",
    "            file_index_tuple = evi_index.get(evidence)\n",
    "#             print(file_index_tuple)\n",
    "            file = wiki_file_path + file_index_tuple[0]\n",
    "            line_num = file_index_tuple[1]\n",
    "            evi_text = linecache.getline(file,line_num + 1)\n",
    "            evidence_texts.append(evi_text)\n",
    "#             print(evi_text)\n",
    "        except TypeError as e: \n",
    "            #print(evidence)\n",
    "            pass\n",
    "\n",
    "    value.update({\"evidence_texts\": evidence_texts})\n",
    "        \n",
    "# Writing JSON data\n",
    "if use_train_file:\n",
    "    with open(train_output_path, 'w') as f:\n",
    "        json.dump(train, f, sort_keys=True, indent=4)\n",
    "else:\n",
    "    with open(dev_output_path, 'w') as f:\n",
    "        json.dump(train, f, sort_keys=True, indent=4)\n"
   ]
  },
  {
   "cell_type": "code",
   "execution_count": null,
   "metadata": {},
   "outputs": [],
   "source": []
  }
 ],
 "metadata": {
  "hide_input": false,
  "kernelspec": {
   "display_name": "Python 3",
   "language": "python",
   "name": "python3"
  },
  "language_info": {
   "codemirror_mode": {
    "name": "ipython",
    "version": 3
   },
   "file_extension": ".py",
   "mimetype": "text/x-python",
   "name": "python",
   "nbconvert_exporter": "python",
   "pygments_lexer": "ipython3",
   "version": "3.6.4"
  },
  "toc": {
   "base_numbering": 1,
   "nav_menu": {},
   "number_sections": true,
   "sideBar": true,
   "skip_h1_title": false,
   "title_cell": "Table of Contents",
   "title_sidebar": "Contents",
   "toc_cell": false,
   "toc_position": {},
   "toc_section_display": true,
   "toc_window_display": false
  },
  "varInspector": {
   "cols": {
    "lenName": 16,
    "lenType": 16,
    "lenVar": 40
   },
   "kernels_config": {
    "python": {
     "delete_cmd_postfix": "",
     "delete_cmd_prefix": "del ",
     "library": "var_list.py",
     "varRefreshCmd": "print(var_dic_list())"
    },
    "r": {
     "delete_cmd_postfix": ") ",
     "delete_cmd_prefix": "rm(",
     "library": "var_list.r",
     "varRefreshCmd": "cat(var_dic_list()) "
    }
   },
   "types_to_exclude": [
    "module",
    "function",
    "builtin_function_or_method",
    "instance",
    "_Feature"
   ],
   "window_display": false
  }
 },
 "nbformat": 4,
 "nbformat_minor": 2
}
