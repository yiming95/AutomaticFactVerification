{
 "cells": [
  {
   "cell_type": "code",
   "execution_count": 29,
   "metadata": {},
   "outputs": [
    {
     "name": "stdout",
     "output_type": "stream",
     "text": [
      "\r",
      "5/5 [==============================] - 0s 40ms/step\n"
     ]
    }
   ],
   "source": [
    "import pandas as pd\n",
    "import numpy as np\n",
    "import keras\n",
    "from keras.callbacks import ModelCheckpoint, EarlyStopping\n",
    "from keras.models import Sequential\n",
    "from keras.layers import Dense, Dropout\n",
    "from IPython.display import SVG\n",
    "from keras.utils.vis_utils import model_to_dot\n",
    "from keras.optimizers import Adam\n",
    "\n",
    "from bert_serving.client import BertClient\n",
    "bc = BertClient(check_length=False)\n",
    "\n",
    "# for cased restart server with \n",
    "# bert-serving-start -model_dir /share/ShareFolder/cased_L-24_H-1024_A-16/ -cased_tokenization -max_batch_size=32 -gpu_memory_fraction=0.9 -num_worker=1\n",
    "# for uncased restart server with \n",
    "# bert-serving-start -model_dir /share/ShareFolder/cased_L-24_H-1024_A-16/ -max_batch_size=32 -gpu_memory_fraction=0.9 -num_worker=1\n",
    "\n",
    "\n",
    "test_file_path = './dev.csv'\n",
    "\n",
    "\n",
    "def get_keras_model():\n",
    "    model = Sequential()\n",
    "    model.add(Dense(units=200, activation='relu', input_dim=3072))\n",
    "    model.add(Dropout(0.3))\n",
    "    model.add(Dense(units=50, activation='relu', input_dim=3072))\n",
    "    model.add(Dropout(0.3))\n",
    "    model.add(Dense(units=1, activation='sigmoid'))\n",
    "    # optimizer = Adam(lr=0.01)\n",
    "    model.compile(loss=keras.losses.binary_crossentropy,\n",
    "                  optimizer='adam', metrics=['accuracy'])\n",
    "\n",
    "    model.load_weights(\"best_weights_sentence.hdf5\")\n",
    "    return model\n",
    "\n",
    "def get_features(claim_list, evidence_list, pair_list):\n",
    "    claim_features = bc.encode(claim_list)\n",
    "    evidence_features = bc.encode(evidence_list)\n",
    "    pair_features = bc.encode(pair_list)\n",
    "    return np.concatenate([claim_features, evidence_features, pair_features], axis=1)\n",
    "    \n",
    "test_df = pd.read_csv(test_file_path)\n",
    "\n",
    "claim_list = list(test_df['claim'].values)[0: 5]\n",
    "evidence_list = list(test_df['evidence'].values)[0: 5]\n",
    "pair_list = list(test_df['claim_evi_pair'].values)[0: 5]\n",
    "\n",
    "feature_matrix = get_features(claim_list, evidence_list, pair_list)\n",
    "\n",
    "keras_model = get_keras_model()\n",
    "labels = keras_model.predict(feature_matrix, batch_size=32, verbose=1)\n",
    "# y_test_predict = model.predict(x_test, batch_size=128, verbose=1)"
   ]
  },
  {
   "cell_type": "code",
   "execution_count": 28,
   "metadata": {},
   "outputs": [
    {
     "data": {
      "text/plain": [
       "(5, 3072)"
      ]
     },
     "execution_count": 28,
     "metadata": {},
     "output_type": "execute_result"
    }
   ],
   "source": [
    "feature_matrix.shape"
   ]
  },
  {
   "cell_type": "code",
   "execution_count": 36,
   "metadata": {},
   "outputs": [
    {
     "data": {
      "text/plain": [
       "array([[2.0837456e-01],\n",
       "       [2.1317372e-01],\n",
       "       [2.5552452e-02],\n",
       "       [1.1413929e-01],\n",
       "       [3.2497333e-05]], dtype=float32)"
      ]
     },
     "execution_count": 36,
     "metadata": {},
     "output_type": "execute_result"
    }
   ],
   "source": [
    "labels"
   ]
  },
  {
   "cell_type": "code",
   "execution_count": null,
   "metadata": {},
   "outputs": [],
   "source": []
  }
 ],
 "metadata": {
  "kernelspec": {
   "display_name": "Python 3",
   "language": "python",
   "name": "python3"
  },
  "language_info": {
   "codemirror_mode": {
    "name": "ipython",
    "version": 3
   },
   "file_extension": ".py",
   "mimetype": "text/x-python",
   "name": "python",
   "nbconvert_exporter": "python",
   "pygments_lexer": "ipython3",
   "version": "3.5.2"
  },
  "toc": {
   "base_numbering": 1,
   "nav_menu": {},
   "number_sections": true,
   "sideBar": true,
   "skip_h1_title": false,
   "title_cell": "Table of Contents",
   "title_sidebar": "Contents",
   "toc_cell": false,
   "toc_position": {},
   "toc_section_display": true,
   "toc_window_display": false
  }
 },
 "nbformat": 4,
 "nbformat_minor": 2
}
