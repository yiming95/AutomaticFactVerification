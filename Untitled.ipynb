{
 "cells": [
  {
   "cell_type": "code",
   "execution_count": 4,
   "metadata": {
    "ExecuteTime": {
     "end_time": "2019-05-17T09:09:10.364217Z",
     "start_time": "2019-05-17T09:09:10.356344Z"
    }
   },
   "outputs": [],
   "source": [
    "import numpy as np\n",
    "# from tempfile import TemporaryFile\n",
    "# outfile = TemporaryFile()\n",
    "\n",
    "x = np.arange(10)\n",
    "np.save(\"test.npy\", x)\n",
    "\n",
    "# outfile.seek(0) # Only needed here to simulate closing & reopening file\n",
    "# np.load(outfile)"
   ]
  },
  {
   "cell_type": "code",
   "execution_count": 15,
   "metadata": {
    "ExecuteTime": {
     "end_time": "2019-05-17T12:38:53.358453Z",
     "start_time": "2019-05-17T12:38:53.019153Z"
    }
   },
   "outputs": [],
   "source": [
    "result = np.load( \"./BERT_MLP_encodings/train_claim_encode.npy\" )"
   ]
  },
  {
   "cell_type": "code",
   "execution_count": 16,
   "metadata": {
    "ExecuteTime": {
     "end_time": "2019-05-17T12:38:53.543118Z",
     "start_time": "2019-05-17T12:38:53.539203Z"
    }
   },
   "outputs": [
    {
     "data": {
      "text/plain": [
       "(145449, 768)"
      ]
     },
     "execution_count": 16,
     "metadata": {},
     "output_type": "execute_result"
    }
   ],
   "source": [
    "result.shape"
   ]
  },
  {
   "cell_type": "code",
   "execution_count": null,
   "metadata": {},
   "outputs": [],
   "source": []
  }
 ],
 "metadata": {
  "hide_input": false,
  "kernelspec": {
   "display_name": "Python 3",
   "language": "python",
   "name": "python3"
  },
  "language_info": {
   "codemirror_mode": {
    "name": "ipython",
    "version": 3
   },
   "file_extension": ".py",
   "mimetype": "text/x-python",
   "name": "python",
   "nbconvert_exporter": "python",
   "pygments_lexer": "ipython3",
   "version": "3.6.4"
  },
  "toc": {
   "base_numbering": 1,
   "nav_menu": {},
   "number_sections": true,
   "sideBar": true,
   "skip_h1_title": false,
   "title_cell": "Table of Contents",
   "title_sidebar": "Contents",
   "toc_cell": false,
   "toc_position": {},
   "toc_section_display": true,
   "toc_window_display": false
  }
 },
 "nbformat": 4,
 "nbformat_minor": 2
}
